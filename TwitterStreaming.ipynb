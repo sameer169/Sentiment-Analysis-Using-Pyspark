{
 "cells": [
  {
   "cell_type": "code",
   "execution_count": null,
   "metadata": {},
   "outputs": [],
   "source": [
    "import tweepy\n",
    "from tweepy import OAuthHandler\n",
    "from tweepy import Stream\n",
    "from tweepy.streaming import StreamListener\n",
    "import socket\n",
    "import json\n",
    "import pandas as pd\n",
    "import numpy as np\n",
    "import twitter_credentials"
   ]
  },
  {
   "cell_type": "code",
   "execution_count": null,
   "metadata": {},
   "outputs": [],
   "source": [
    "consumer_key=twitter_credentials.CONSUMER_KEY\n",
    "consumer_secret=twitter_credentials.CONSUMER_SECRET\n",
    "access_token=twitter_credentials.ACCESS_TOKEN\n",
    "access_secret=twitter_credentials.ACCESS_TOKEN_SECRET"
   ]
  },
  {
   "cell_type": "code",
   "execution_count": null,
   "metadata": {},
   "outputs": [],
   "source": [
    "class TweetsListener(StreamListener):\n",
    "    def __init__(self,csocket):\n",
    "        self.client_socket=csocket\n",
    "    def on_data(self,data):\n",
    "        try:\n",
    "            msg=json.loads(data)\n",
    "            df=pd.DataFrame(data=[msg['text']],columns=['tweets'])\n",
    "            df['id'] = np.array([msg['id']])\n",
    "            df['len'] = np.array([len(msg['text'])])\n",
    "            df['date'] = np.array([msg['created_at']])\n",
    "            df['source'] = np.array([msg['source']])\n",
    "            df['likes'] = np.array([msg['favorite_count']])\n",
    "            df['retweets'] = np.array([msg['retweet_count']])\n",
    "            print(df)\n",
    "            df.to_csv('tweet.csv', mode='a', header=False)\n",
    "            self.client_socket.send(df)\n",
    "            return True\n",
    "        except BaseException as e:\n",
    "            print(\"error on_data:%s\" % str(e))\n",
    "        return True\n",
    "    def on_error(self,status):\n",
    "        print(status)\n",
    "        return True\n"
   ]
  },
  {
   "cell_type": "code",
   "execution_count": null,
   "metadata": {},
   "outputs": [],
   "source": [
    "def sendData(c_socket):\n",
    "    auth=OAuthHandler(consumer_key,consumer_secret)\n",
    "    auth.set_access_token(access_token,access_secret)\n",
    "    twitter_stream=Stream(auth,TweetsListener(c_socket))\n",
    "    twitter_stream.filter(track=['narendramodi'])"
   ]
  },
  {
   "cell_type": "code",
   "execution_count": null,
   "metadata": {},
   "outputs": [],
   "source": [
    "s=socket.socket()\n",
    "host=\"127.0.0.1\"\n",
    "port=7918\n",
    "s.bind((host,port))\n",
    "print(\"listening on port %s\" % str(port))\n"
   ]
  },
  {
   "cell_type": "code",
   "execution_count": null,
   "metadata": {},
   "outputs": [],
   "source": [
    "s.listen(5)\n",
    "c,addr=s.accept()\n",
    "print(\"Recieved request from \"+ str(addr))"
   ]
  },
  {
   "cell_type": "code",
   "execution_count": null,
   "metadata": {},
   "outputs": [],
   "source": [
    "sendData(c)"
   ]
  },
  {
   "cell_type": "code",
   "execution_count": null,
   "metadata": {},
   "outputs": [],
   "source": []
  }
 ],
 "metadata": {
  "kernelspec": {
   "display_name": "Python 3",
   "language": "python",
   "name": "python3"
  },
  "language_info": {
   "codemirror_mode": {
    "name": "ipython",
    "version": 3
   },
   "file_extension": ".py",
   "mimetype": "text/x-python",
   "name": "python",
   "nbconvert_exporter": "python",
   "pygments_lexer": "ipython3",
   "version": "3.7.4"
  }
 },
 "nbformat": 4,
 "nbformat_minor": 4
}
